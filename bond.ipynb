{
 "cells": [
  {
   "cell_type": "code",
   "execution_count": 42,
   "metadata": {},
   "outputs": [],
   "source": [
    "import numpy as np\n",
    "\n",
    "query_attr = np.array([[1, 0, 1, 0], \n",
    "                       [0, 1, 1, 0], \n",
    "                       [0, 1, 0, 1], \n",
    "                       [0, 0, 1, 1]])\n",
    "\n",
    "query_access = np.array([[15, 20, 10], \n",
    "                         [5, 0, 0], \n",
    "                         [25, 25, 25], \n",
    "                         [3, 0, 0]])\n",
    "\n",
    "dim = len(query_attr[0])\n",
    "aa_matrix = np.zeros((dim,dim))"
   ]
  },
  {
   "cell_type": "code",
   "execution_count": 43,
   "metadata": {},
   "outputs": [],
   "source": [
    "def position_checker(positions, i, k):\n",
    "  aa_elem = []\n",
    "  for j in positions[0]:\n",
    "    aa_elem.append(np.sum(query_access[j, :]))\n",
    "  aa_matrix[i,k] = sum(aa_elem)\n",
    "\n",
    "def dot_prod(vec_a, vec_b):\n",
    "  return np.dot(vec_a.flatten(), vec_b.flatten())"
   ]
  },
  {
   "cell_type": "code",
   "execution_count": 44,
   "metadata": {},
   "outputs": [
    {
     "name": "stdout",
     "output_type": "stream",
     "text": [
      "AA matrix\n",
      "[[45.  0. 45.  0.]\n",
      " [ 0. 80.  5. 75.]\n",
      " [45.  5. 53.  3.]\n",
      " [ 0. 75.  3. 78.]]\n",
      "\n",
      "CA matrix\n",
      "[[45. 45.  0.  0.]\n",
      " [ 0.  5. 80. 75.]\n",
      " [45. 53.  5.  3.]\n",
      " [ 0.  3. 75. 78.]]\n",
      "\n",
      "CA matrix (adjusted)\n",
      "[[45. 45.  0.  0.]\n",
      " [45. 53.  5.  3.]\n",
      " [ 0.  5. 80. 75.]\n",
      " [ 0.  3. 75. 78.]]\n"
     ]
    }
   ],
   "source": [
    "## AA_MARIX GENERATION\n",
    "for i in range(dim):\n",
    "  for k in range(dim):\n",
    "    if i == k:\n",
    "      attr = query_attr[:, k].flatten()\n",
    "      positions = np.where(attr == 1)\n",
    "      position_checker(positions, i, k)\n",
    "    else:\n",
    "      attr_i = query_attr[:, i].flatten()\n",
    "      attr_k = query_attr[:, k].flatten()\n",
    "      positions = np.where((attr_i == 1) & (attr_k == 1))\n",
    "      position_checker(positions, i, k)\n",
    "\n",
    "print(\"AA matrix\")\n",
    "print(aa_matrix)\n",
    "\n",
    "# BOND ENERGY ALGORITHM - GET INITIAL ca_matrix\n",
    "ca_matrix = aa_matrix[:, :2]\n",
    "ca_matrix = np.append(np.zeros((dim,1)), ca_matrix, axis=1)\n",
    "ca_matrix = np.append(ca_matrix,np.zeros((dim,1)), axis=1)\n",
    "\n",
    "# BOND ENERGY ALGORITHM - ca_matrix GENERATION\n",
    "for k in range(2, len(aa_matrix)):\n",
    "  i, j = 0, 1\n",
    "  get_values = []\n",
    "  while j < ca_matrix.shape[1]:\n",
    "    #print(i,k,j, len(ca_matrix))\n",
    "    get_values.append(2 * dot_prod(ca_matrix[:, i], aa_matrix[:, k]) + \n",
    "                      2 * dot_prod(aa_matrix[:, k], ca_matrix[:, j]) - \n",
    "                      2 * dot_prod(ca_matrix[:, i], ca_matrix[:, j]))  \n",
    "    i = j\n",
    "    j+=1\n",
    "  pos = np.argmax(get_values) + 1\n",
    "  ca_matrix = np.insert(ca_matrix, pos, aa_matrix[k], axis=1)\n",
    "\n",
    "# BOND ENERGY ALGORITHM - REMOVES ZEROS COLUMNS\n",
    "ca_matrix = np.delete(ca_matrix, 0, axis=1)\n",
    "ca_matrix = np.delete(ca_matrix, ca_matrix.shape[1]-1, axis=1)\n",
    "\n",
    "print(\"\\nCA matrix\")\n",
    "print(ca_matrix)\n",
    "\n",
    "column_indices = []\n",
    "outArr = []\n",
    "\n",
    "for i in range(0, dim):\n",
    "  for j in range(0, dim):\n",
    "    if j not in column_indices and np.array_equal(ca_matrix[:, i], aa_matrix[:, j]):\n",
    "      column_indices.append(j)\n",
    "\n",
    "for i in column_indices:\n",
    "  outArr.append(ca_matrix[i, :])\n",
    "\n",
    "ca_matrix_adjusted = np.array(outArr)\n",
    "\n",
    "print(\"\\nCA matrix (adjusted)\")\n",
    "print(ca_matrix_adjusted)  "
   ]
  }
 ],
 "metadata": {
  "kernelspec": {
   "display_name": "Python 3",
   "language": "python",
   "name": "python3"
  },
  "language_info": {
   "codemirror_mode": {
    "name": "ipython",
    "version": 3
   },
   "file_extension": ".py",
   "mimetype": "text/x-python",
   "name": "python",
   "nbconvert_exporter": "python",
   "pygments_lexer": "ipython3",
   "version": "3.10.4"
  }
 },
 "nbformat": 4,
 "nbformat_minor": 2
}
